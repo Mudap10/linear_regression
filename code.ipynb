{
  "nbformat": 4,
  "nbformat_minor": 0,
  "metadata": {
    "colab": {
      "provenance": [],
      "gpuType": "T4"
    },
    "kernelspec": {
      "name": "python3",
      "display_name": "Python 3"
    },
    "language_info": {
      "name": "python"
    },
    "accelerator": "GPU"
  },
  "cells": [
    {
      "cell_type": "code",
      "source": [
        "import torch\n",
        "from torch import nn\n",
        "import matplotlib.pyplot as plt"
      ],
      "metadata": {
        "id": "gpTUpF2qjVpY"
      },
      "execution_count": 1,
      "outputs": []
    },
    {
      "cell_type": "code",
      "source": [
        "# create data, linear\n",
        "weight = 1.0\n",
        "bias = 0.6\n",
        "\n",
        "X = torch.arange(0, 1, 0.02).unsqueeze(dim=1) # data\n",
        "y= weight * X + bias # target\n",
        "# unsqueeze because using nn.Linear"
      ],
      "metadata": {
        "id": "Gry1LaepkfcU"
      },
      "execution_count": 2,
      "outputs": []
    },
    {
      "cell_type": "code",
      "source": [
        "# split the data 80 - 20\n",
        "split = int(0.8 * len(X))\n",
        "X_train, y_train = X[:split], y[:split] # train data\n",
        "X_test, y_test = X[split:], y[split:] # test data"
      ],
      "metadata": {
        "id": "qqGInFBUlF24"
      },
      "execution_count": 3,
      "outputs": []
    },
    {
      "cell_type": "code",
      "source": [
        "def predictions(train_data,\n",
        "                train_label,\n",
        "                test_data,\n",
        "                test_label,\n",
        "                predictions=None):\n",
        "\n",
        "  plt.figure(figsize=(10, 7)) # size of the plot\n",
        "\n",
        "  # plot train data\n",
        "  plt.scatter(train_data.cpu(), train_label.cpu(), s=5, c='blue', label='training data')\n",
        "\n",
        "  # plot test data\n",
        "  plt.scatter(test_data.cpu(), test_label.cpu(), s=5, c='green', label='test data')\n",
        "\n",
        "  # plot prediction if not None\n",
        "  if predictions != None:\n",
        "    plt.scatter(test_data.cpu(), predictions.cpu(), s=5, c='red', label='prediction')\n",
        "\n",
        "  plt.legend(prop={'size': 14}) # legend for the plot"
      ],
      "metadata": {
        "id": "TEAxYF3Yls9O"
      },
      "execution_count": 4,
      "outputs": []
    },
    {
      "cell_type": "code",
      "source": [
        "predictions(X_train, y_train, X_test, y_test)"
      ],
      "metadata": {
        "colab": {
          "base_uri": "https://localhost:8080/",
          "height": 459
        },
        "id": "L5fmX1iNmxtW",
        "outputId": "aec30d7d-cff8-441b-eca2-d9787b62a57b"
      },
      "execution_count": 5,
      "outputs": [
        {
          "output_type": "display_data",
          "data": {
            "text/plain": [
              "<Figure size 1000x700 with 1 Axes>"
            ],
            "image/png": "[encoded data removed]"
          },
          "metadata": {}
        }
      ]
    },
    {
      "cell_type": "code",
      "source": [
        "# linear model\n",
        "class modelReg(nn.Module):\n",
        "  def __init__(self):\n",
        "    super().__init__()\n",
        "    self.linear = nn.Linear(in_features=1,\n",
        "                            out_features=1)\n",
        "\n",
        "  def forward(self, x):\n",
        "    return self.linear(x)\n",
        "\n",
        "model = modelReg()\n",
        "model, model.state_dict()"
      ],
      "metadata": {
        "colab": {
          "base_uri": "https://localhost:8080/"
        },
        "id": "CtxgHetgm4HG",
        "outputId": "4ff82ea8-7162-4b33-808b-2e8fe77a749a"
      },
      "execution_count": 6,
      "outputs": [
        {
          "output_type": "execute_result",
          "data": {
            "text/plain": [
              "(modelReg(\n",
              "   (linear): Linear(in_features=1, out_features=1, bias=True)\n",
              " ),\n",
              " OrderedDict([('linear.weight', tensor([[-0.4541]])),\n",
              "              ('linear.bias', tensor([0.7756]))]))"
            ]
          },
          "metadata": {},
          "execution_count": 6
        }
      ]
    },
    {
      "cell_type": "code",
      "source": [
        "# loss, optimizer\n",
        "loss_fn = nn.L1Loss()\n",
        "optimizer = torch.optim.SGD(params=model.parameters(), lr=0.01)\n",
        "loss_fn, optimizer"
      ],
      "metadata": {
        "colab": {
          "base_uri": "https://localhost:8080/"
        },
        "id": "ffB_eLGDniK2",
        "outputId": "6890715d-644a-40e2-9776-3ae3ad44eb85"
      },
      "execution_count": 7,
      "outputs": [
        {
          "output_type": "execute_result",
          "data": {
            "text/plain": [
              "(L1Loss(),\n",
              " SGD (\n",
              " Parameter Group 0\n",
              "     dampening: 0\n",
              "     differentiable: False\n",
              "     foreach: None\n",
              "     fused: None\n",
              "     lr: 0.01\n",
              "     maximize: False\n",
              "     momentum: 0\n",
              "     nesterov: False\n",
              "     weight_decay: 0\n",
              " ))"
            ]
          },
          "metadata": {},
          "execution_count": 7
        }
      ]
    },
    {
      "cell_type": "code",
      "source": [
        "# set the data and model to gpu\n",
        "device = 'cuda' if torch.cuda.is_available() else 'cpu'\n",
        "\n",
        "X_train, y_train = X_train.to(device), y_train.to(device)\n",
        "X_test, y_test = X_test.to(device), y_test.to(device)\n",
        "model.to(device)"
      ],
      "metadata": {
        "colab": {
          "base_uri": "https://localhost:8080/"
        },
        "id": "KCuLblt2n4x-",
        "outputId": "71ece115-4118-4596-d9f7-586f9080efb2"
      },
      "execution_count": 8,
      "outputs": [
        {
          "output_type": "execute_result",
          "data": {
            "text/plain": [
              "modelReg(\n",
              "  (linear): Linear(in_features=1, out_features=1, bias=True)\n",
              ")"
            ]
          },
          "metadata": {},
          "execution_count": 8
        }
      ]
    },
    {
      "cell_type": "code",
      "source": [
        "# train\n",
        "epochs = 300\n",
        "\n",
        "for epoch in range(epochs):\n",
        "  model.train() # set model to train mode\n",
        "\n",
        "  # forward pass\n",
        "  pred = model(X_train)\n",
        "\n",
        "  # calculate loss\n",
        "  loss = loss_fn(pred, y_train)\n",
        "\n",
        "  # set gradient to zero\n",
        "  optimizer.zero_grad()\n",
        "\n",
        "  # getting the gradients\n",
        "  loss.backward()\n",
        "\n",
        "  # step optimization\n",
        "  optimizer.step()\n",
        "\n",
        "  if epoch % 40 == 0:\n",
        "    model.eval() # set model to evaluation mode\n",
        "    with torch.inference_mode():\n",
        "      tst_pred = model(X_test)\n",
        "      tst_loss = loss_fn(tst_pred, y_test)\n",
        "  if epoch % 50 == 0:\n",
        "    print(f'epoch: {epoch} | train loss: {loss} | test loss: {tst_loss}')"
      ],
      "metadata": {
        "colab": {
          "base_uri": "https://localhost:8080/"
        },
        "id": "NrmIPe0Pohjl",
        "outputId": "2772f8ec-7873-49b3-f3aa-c95dd50f601e"
      },
      "execution_count": 9,
      "outputs": [
        {
          "output_type": "stream",
          "name": "stdout",
          "text": [
            "epoch: 0 | train loss: 0.42243286967277527 | test loss: 1.108770489692688\n",
            "epoch: 50 | train loss: 0.2709348201751709 | test loss: 0.8068042993545532\n",
            "epoch: 100 | train loss: 0.23416674137115479 | test loss: 0.6456549167633057\n",
            "epoch: 150 | train loss: 0.2151293307542801 | test loss: 0.5597531199455261\n",
            "epoch: 200 | train loss: 0.19767943024635315 | test loss: 0.4654885232448578\n",
            "epoch: 250 | train loss: 0.18042533099651337 | test loss: 0.4289640486240387\n"
          ]
        }
      ]
    },
    {
      "cell_type": "code",
      "source": [
        "# create prediction using test data and plot it\n",
        "model.eval()\n",
        "with torch.inference_mode():\n",
        "  tst_pred = model(X_test)\n",
        "\n",
        "predictions(X_train, y_train, X_test, y_test, tst_pred)"
      ],
      "metadata": {
        "colab": {
          "base_uri": "https://localhost:8080/",
          "height": 459
        },
        "id": "QIhEJZxVq2Fl",
        "outputId": "0e218a57-767d-47b7-c4e3-c8076a0ca485"
      },
      "execution_count": 10,
      "outputs": [
        {
          "output_type": "display_data",
          "data": {
            "text/plain": [
              "<Figure size 1000x700 with 1 Axes>"
            ],
            "image/png": "[encoded data removed]"
          },
          "metadata": {}
        }
      ]
    },
    {
      "cell_type": "code",
      "source": [
        "# save the model\n",
        "from pathlib import Path\n",
        "\n",
        "model_name = 'reg_model.pth'\n",
        "model_path = Path()\n",
        "model_save_path = model_path/model_name\n",
        "\n",
        "print(f'saving model: {model_name}')\n",
        "torch.save(obj=model.state_dict(),\n",
        "           f=model_save_path)"
      ],
      "metadata": {
        "colab": {
          "base_uri": "https://localhost:8080/"
        },
        "id": "gJGbtC3NrBZ9",
        "outputId": "a993d576-2505-4601-b537-4169eb59a723"
      },
      "execution_count": 11,
      "outputs": [
        {
          "output_type": "stream",
          "name": "stdout",
          "text": [
            "saving model: reg_model.pth\n"
          ]
        }
      ]
    },
    {
      "cell_type": "code",
      "source": [
        "# load the model to check the pretrained weights\n",
        "model_1 = modelReg() # create an instance\n",
        "model_1.load_state_dict(torch.load(model_save_path)) # load pretrained weigth"
      ],
      "metadata": {
        "colab": {
          "base_uri": "https://localhost:8080/"
        },
        "id": "JuxBRXVosJjt",
        "outputId": "d9ad66b0-3e6d-4bbb-a173-c381180f70c0"
      },
      "execution_count": 12,
      "outputs": [
        {
          "output_type": "execute_result",
          "data": {
            "text/plain": [
              "<All keys matched successfully>"
            ]
          },
          "metadata": {},
          "execution_count": 12
        }
      ]
    },
    {
      "cell_type": "code",
      "source": [
        "# check for predictions with the latest prediction before saving the model\n",
        "model_1.eval()\n",
        "model_1.to(device)\n",
        "with torch.inference_mode():\n",
        "  npred = model_1(X_test)\n",
        "npred == tst_pred"
      ],
      "metadata": {
        "colab": {
          "base_uri": "https://localhost:8080/"
        },
        "id": "nQuBw0G_shxd",
        "outputId": "4e521686-7853-4d95-c99a-d90953c00297"
      },
      "execution_count": 13,
      "outputs": [
        {
          "output_type": "execute_result",
          "data": {
            "text/plain": [
              "tensor([[True],\n",
              "        [True],\n",
              "        [True],\n",
              "        [True],\n",
              "        [True],\n",
              "        [True],\n",
              "        [True],\n",
              "        [True],\n",
              "        [True],\n",
              "        [True]], device='cuda:0')"
            ]
          },
          "metadata": {},
          "execution_count": 13
        }
      ]
    },
    {
      "cell_type": "code",
      "source": [],
      "metadata": {
        "id": "XfA3fdFgsseV"
      },
      "execution_count": 13,
      "outputs": []
    }
  ]
}